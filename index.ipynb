{
 "cells": [
  {
   "cell_type": "markdown",
   "metadata": {},
   "source": [
    "# Gradient Boosting - Lab\n",
    "\n",
    "## Introduction\n",
    "\n",
    "In this lab, we'll learn how to use both Adaboost and Gradient Boosting Classifiers from scikit-learn!\n",
    "\n",
    "## Objectives\n",
    "\n",
    "You will be able to:\n",
    "\n",
    "* Compare and contrast Adaboost and Gradient Boosting\n",
    "* Use adaboost to make predictions on a dataset\n",
    "* Use Gradient Boosting to make predictions on a dataset\n",
    "\n",
    "## Getting Started\n",
    "\n",
    "In this lab, we'll learn how to use Boosting algorithms to make classifications on the [Pima Indians Dataset](http://ftp.ics.uci.edu/pub/machine-learning-databases/pima-indians-diabetes/pima-indians-diabetes.names). You will find the data stored within the file `pima-indians-diabetes.csv`. Our goal is to use boosting algorithms to classify each person as having or not having diabetes. Let's get started!\n",
    "\n",
    "We'll begin by importing everything we need for this lab. In the cell below:\n",
    "\n",
    "* Import `numpy`, `pandas`, and `matplotlib.pyplot`, and set the standard alias for each. Also set matplotlib visualizations to display inline. \n",
    "* Set a random seed of `0` by using `np.random.seed(0)`\n",
    "* Import `train_test_split` and `cross_val_score` from `sklearn.model_selection`\n",
    "* Import `StandardScaler` from `sklearn.preprocessing`\n",
    "* Import `AdaboostClassifier` and `GradientBoostingClassifier` from `sklearn.ensemble`\n",
    "* Import `accuracy_score`, `f1_score`, `confusion_matrix`, and `classification_report` from `sklearn.metrics`"
   ]
  },
  {
   "cell_type": "code",
   "execution_count": 18,
   "metadata": {},
   "outputs": [],
   "source": [
    "import numpy as np \n",
    "import pandas as pd \n",
    "import matplotlib.pyplot\n",
    "import seaborn as sns\n",
    "%matplotlib inline\n",
    "from sklearn.model_selection import train_test_split, cross_val_score\n",
    "from sklearn.preprocessing import StandardScaler\n",
    "from sklearn.ensemble import GradientBoostingClassifier, AdaBoostClassifier\n",
    "from sklearn.metrics import accuracy_score, f1_score, confusion_matrix, classification_report "
   ]
  },
  {
   "cell_type": "markdown",
   "metadata": {},
   "source": [
    "Now, use pandas to read in the data stored in `pima-indians-diabetes.csv` and store it in a DataFrame. Display the head to inspect the data we've imported and ensure everything loaded correctly. "
   ]
  },
  {
   "cell_type": "code",
   "execution_count": 9,
   "metadata": {},
   "outputs": [
    {
     "data": {
      "text/html": [
       "<div>\n",
       "<style scoped>\n",
       "    .dataframe tbody tr th:only-of-type {\n",
       "        vertical-align: middle;\n",
       "    }\n",
       "\n",
       "    .dataframe tbody tr th {\n",
       "        vertical-align: top;\n",
       "    }\n",
       "\n",
       "    .dataframe thead th {\n",
       "        text-align: right;\n",
       "    }\n",
       "</style>\n",
       "<table border=\"1\" class=\"dataframe\">\n",
       "  <thead>\n",
       "    <tr style=\"text-align: right;\">\n",
       "      <th></th>\n",
       "      <th>Pregnancies</th>\n",
       "      <th>Glucose</th>\n",
       "      <th>BloodPressure</th>\n",
       "      <th>SkinThickness</th>\n",
       "      <th>Insulin</th>\n",
       "      <th>BMI</th>\n",
       "      <th>DiabetesPedigreeFunction</th>\n",
       "      <th>Age</th>\n",
       "      <th>Outcome</th>\n",
       "    </tr>\n",
       "  </thead>\n",
       "  <tbody>\n",
       "    <tr>\n",
       "      <th>0</th>\n",
       "      <td>6</td>\n",
       "      <td>148</td>\n",
       "      <td>72</td>\n",
       "      <td>35</td>\n",
       "      <td>0</td>\n",
       "      <td>33.6</td>\n",
       "      <td>0.627</td>\n",
       "      <td>50</td>\n",
       "      <td>1</td>\n",
       "    </tr>\n",
       "    <tr>\n",
       "      <th>1</th>\n",
       "      <td>1</td>\n",
       "      <td>85</td>\n",
       "      <td>66</td>\n",
       "      <td>29</td>\n",
       "      <td>0</td>\n",
       "      <td>26.6</td>\n",
       "      <td>0.351</td>\n",
       "      <td>31</td>\n",
       "      <td>0</td>\n",
       "    </tr>\n",
       "    <tr>\n",
       "      <th>2</th>\n",
       "      <td>8</td>\n",
       "      <td>183</td>\n",
       "      <td>64</td>\n",
       "      <td>0</td>\n",
       "      <td>0</td>\n",
       "      <td>23.3</td>\n",
       "      <td>0.672</td>\n",
       "      <td>32</td>\n",
       "      <td>1</td>\n",
       "    </tr>\n",
       "    <tr>\n",
       "      <th>3</th>\n",
       "      <td>1</td>\n",
       "      <td>89</td>\n",
       "      <td>66</td>\n",
       "      <td>23</td>\n",
       "      <td>94</td>\n",
       "      <td>28.1</td>\n",
       "      <td>0.167</td>\n",
       "      <td>21</td>\n",
       "      <td>0</td>\n",
       "    </tr>\n",
       "    <tr>\n",
       "      <th>4</th>\n",
       "      <td>0</td>\n",
       "      <td>137</td>\n",
       "      <td>40</td>\n",
       "      <td>35</td>\n",
       "      <td>168</td>\n",
       "      <td>43.1</td>\n",
       "      <td>2.288</td>\n",
       "      <td>33</td>\n",
       "      <td>1</td>\n",
       "    </tr>\n",
       "  </tbody>\n",
       "</table>\n",
       "</div>"
      ],
      "text/plain": [
       "   Pregnancies  Glucose  BloodPressure  SkinThickness  Insulin   BMI  \\\n",
       "0            6      148             72             35        0  33.6   \n",
       "1            1       85             66             29        0  26.6   \n",
       "2            8      183             64              0        0  23.3   \n",
       "3            1       89             66             23       94  28.1   \n",
       "4            0      137             40             35      168  43.1   \n",
       "\n",
       "   DiabetesPedigreeFunction  Age  Outcome  \n",
       "0                     0.627   50        1  \n",
       "1                     0.351   31        0  \n",
       "2                     0.672   32        1  \n",
       "3                     0.167   21        0  \n",
       "4                     2.288   33        1  "
      ]
     },
     "execution_count": 9,
     "metadata": {},
     "output_type": "execute_result"
    }
   ],
   "source": [
    "df = pd.read_csv('pima-indians-diabetes.csv')\n",
    "df.head()"
   ]
  },
  {
   "cell_type": "markdown",
   "metadata": {},
   "source": [
    "## Cleaning, Exploration, and Preprocessing\n",
    "\n",
    "The target we're trying to predict is the `'Outcome'` column. A `1` denotes a patient with diabetes. \n",
    "\n",
    "By now, you're quite familiar with exploring and preprocessing a dataset, so we won't hold your hand for this step. \n",
    "\n",
    "In the following cells:\n",
    "\n",
    "* Store our target column in a separate variable and remove it from the dataset\n",
    "* Check for null values and deal with them as you see fit (if any exist)\n",
    "* Check the distribution of our target\n",
    "* Scale the dataset\n",
    "* Split the dataset into training and testing sets, with a `test_size` of `0.25`"
   ]
  },
  {
   "cell_type": "code",
   "execution_count": 17,
   "metadata": {},
   "outputs": [],
   "source": [
    "y = df['Outcome']\n",
    "df = df.drop('Outcome',axis=1)"
   ]
  },
  {
   "cell_type": "code",
   "execution_count": 44,
   "metadata": {},
   "outputs": [],
   "source": [
    "X = df\n",
    "columns = X.columns"
   ]
  },
  {
   "cell_type": "code",
   "execution_count": 39,
   "metadata": {},
   "outputs": [
    {
     "data": {
      "text/plain": [
       "(768,)"
      ]
     },
     "execution_count": 39,
     "metadata": {},
     "output_type": "execute_result"
    }
   ],
   "source": [
    "y.shape"
   ]
  },
  {
   "cell_type": "code",
   "execution_count": 56,
   "metadata": {},
   "outputs": [
    {
     "name": "stderr",
     "output_type": "stream",
     "text": [
      "/opt/conda/envs/learn-env/lib/python3.6/site-packages/sklearn/preprocessing/data.py:625: DataConversionWarning: Data with input dtype int64, float64 were all converted to float64 by StandardScaler.\n",
      "  return self.partial_fit(X, y)\n",
      "/opt/conda/envs/learn-env/lib/python3.6/site-packages/sklearn/base.py:462: DataConversionWarning: Data with input dtype int64, float64 were all converted to float64 by StandardScaler.\n",
      "  return self.fit(X, **fit_params).transform(X)\n"
     ]
    }
   ],
   "source": [
    "scaler = StandardScaler() \n",
    "scaled_df = scaler.fit_transform(X)\n",
    "scaled_df\n",
    "X = pd.DataFrame(scaled_df, columns = columns)"
   ]
  },
  {
   "cell_type": "code",
   "execution_count": 67,
   "metadata": {},
   "outputs": [
    {
     "data": {
      "text/plain": [
       "(768,)"
      ]
     },
     "execution_count": 67,
     "metadata": {},
     "output_type": "execute_result"
    }
   ],
   "source": [
    "X.shape\n",
    "y.shape"
   ]
  },
  {
   "cell_type": "code",
   "execution_count": 57,
   "metadata": {},
   "outputs": [],
   "source": [
    "X_train, X_test, y_train, y_test = train_test_split(X,y, test_size = .25) "
   ]
  },
  {
   "cell_type": "markdown",
   "metadata": {},
   "source": [
    "## Training the Models\n",
    "\n",
    "Now that we've cleaned and preprocessed our dataset, we're ready to fit some models!\n",
    "\n",
    "In the cell below:\n",
    "\n",
    "* Create an `AdaBoostClassifier`\n",
    "* Create a `GradientBoostingClassifer`"
   ]
  },
  {
   "cell_type": "code",
   "execution_count": 58,
   "metadata": {},
   "outputs": [],
   "source": [
    "adaboost_clf = AdaBoostClassifier()\n",
    "gbt_clf = GradientBoostingClassifier()"
   ]
  },
  {
   "cell_type": "markdown",
   "metadata": {},
   "source": [
    "Now, train each of the classifiers using the training data."
   ]
  },
  {
   "cell_type": "code",
   "execution_count": 59,
   "metadata": {},
   "outputs": [],
   "source": [
    "ada_model = adaboost_clf.fit(X_train, y_train) "
   ]
  },
  {
   "cell_type": "code",
   "execution_count": 60,
   "metadata": {},
   "outputs": [],
   "source": [
    "gbt_model = gbt_clf.fit(X_train, y_train) "
   ]
  },
  {
   "cell_type": "markdown",
   "metadata": {},
   "source": [
    "Now, let's create some predictions using each model so that we can calculate the training and testing accuracy for each."
   ]
  },
  {
   "cell_type": "code",
   "execution_count": 61,
   "metadata": {},
   "outputs": [],
   "source": [
    "adaboost_train_preds = ada_model.predict(X_train)\n",
    "adaboost_test_preds = ada_model.predict(X_test)\n",
    "gbt_clf_train_preds = gbt_model.predict(X_train) \n",
    "gbt_clf_test_preds = gbt_model.predict(X_test) "
   ]
  },
  {
   "cell_type": "markdown",
   "metadata": {},
   "source": [
    "Now, complete the following function and use it to calculate the training and testing accuracy and f1-score for each model. "
   ]
  },
  {
   "cell_type": "code",
   "execution_count": 62,
   "metadata": {},
   "outputs": [
    {
     "name": "stdout",
     "output_type": "stream",
     "text": [
      "Training Metrics\n",
      "Model: AdaBoost\n",
      "Accuracy: 0.8506944444444444\n",
      "F1-Score: 0.7760416666666667\n",
      "\n",
      "Model: Gradient Boosted Trees\n",
      "Accuracy: 0.9288194444444444\n",
      "F1-Score: 0.8923884514435695\n",
      "\n",
      "Testing Metrics\n",
      "Model: AdaBoost\n",
      "Accuracy: 0.7083333333333334\n",
      "F1-Score: 0.5882352941176471\n",
      "\n",
      "Model: Gradient Boosted Trees\n",
      "Accuracy: 0.7395833333333334\n",
      "F1-Score: 0.6268656716417911\n"
     ]
    }
   ],
   "source": [
    "def display_acc_and_f1_score(true, preds, model_name):\n",
    "    acc = accuracy_score(true,preds) \n",
    "    f1 = f1_score(true,preds)\n",
    "    print(\"Model: {}\".format(model_name))\n",
    "    print(\"Accuracy: {}\".format(acc))\n",
    "    print(\"F1-Score: {}\".format(f1))\n",
    "    \n",
    "print(\"Training Metrics\")\n",
    "display_acc_and_f1_score(y_train, adaboost_train_preds, model_name='AdaBoost')\n",
    "print(\"\")\n",
    "display_acc_and_f1_score(y_train, gbt_clf_train_preds, model_name='Gradient Boosted Trees')\n",
    "print(\"\")\n",
    "print(\"Testing Metrics\")\n",
    "display_acc_and_f1_score(y_test, adaboost_test_preds, model_name='AdaBoost')\n",
    "print(\"\")\n",
    "display_acc_and_f1_score(y_test, gbt_clf_test_preds, model_name='Gradient Boosted Trees')"
   ]
  },
  {
   "cell_type": "markdown",
   "metadata": {},
   "source": [
    "Let's go one step further and create a confusion matrix and classification report for each. Do so in the cell below."
   ]
  },
  {
   "cell_type": "code",
   "execution_count": null,
   "metadata": {},
   "outputs": [],
   "source": [
    "adaboost_confusion_matrix = None\n",
    "adaboost_confusion_matrix"
   ]
  },
  {
   "cell_type": "code",
   "execution_count": null,
   "metadata": {},
   "outputs": [],
   "source": [
    "gbt_confusion_matrix = None\n",
    "gbt_confusion_matrix"
   ]
  },
  {
   "cell_type": "code",
   "execution_count": null,
   "metadata": {},
   "outputs": [],
   "source": [
    "adaboost_classification_report = None\n",
    "print(adaboost_classification_report)"
   ]
  },
  {
   "cell_type": "code",
   "execution_count": null,
   "metadata": {},
   "outputs": [],
   "source": [
    "gbt_classification_report = None\n",
    "print(gbt_classification_report)"
   ]
  },
  {
   "cell_type": "markdown",
   "metadata": {},
   "source": [
    "**_Question:_** How did the models perform? Interpret the evaluation metrics above to answer this question.\n",
    "\n",
    "Write your answer below this line:\n",
    "_______________________________________________________________________________________________________________________________\n",
    "\n",
    " \n",
    " \n",
    "As a final performance check, let's calculate the `cross_val_score` for each model! Do so now in the cells below. \n",
    "\n",
    "Recall that to compute the cross validation score, we need to pass in:\n",
    "\n",
    "* a classifier\n",
    "* All training Data\n",
    "* All labels\n",
    "* The number of folds we want in our cross validation score. \n",
    "\n",
    "Since we're computing cross validation score, we'll want to pass in the entire (scaled) dataset, as well as all of the labels. We don't need to give it data that has been split into training and testing sets because it will handle this step during the cross validation. \n",
    "\n",
    "In the cells below, compute the mean cross validation score for each model. For the data, use our `scaled_df` variable. The corresponding labels are in the variable `target`. Also set `cv=5`."
   ]
  },
  {
   "cell_type": "code",
   "execution_count": 69,
   "metadata": {},
   "outputs": [
    {
     "name": "stdout",
     "output_type": "stream",
     "text": [
      "Mean Adaboost Cross-Val Score (k=5):\n"
     ]
    },
    {
     "ename": "TypeError",
     "evalue": "estimator should be an estimator implementing 'fit' method,      Pregnancies   Glucose  BloodPressure  SkinThickness   Insulin       BMI  \\\n0       0.639947  0.848324       0.149641       0.907270 -0.692891  0.204013   \n1      -0.844885 -1.123396      -0.160546       0.530902 -0.692891 -0.684422   \n2       1.233880  1.943724      -0.263941      -1.288212 -0.692891 -1.103255   \n3      -0.844885 -0.998208      -0.160546       0.154533  0.123302 -0.494043   \n4      -1.141852  0.504055      -1.504687       0.907270  0.765836  1.409746   \n5       0.342981 -0.153185       0.253036      -1.288212 -0.692891 -0.811341   \n6      -0.250952 -1.342476      -0.987710       0.719086  0.071204 -0.125977   \n7       1.827813 -0.184482      -3.572597      -1.288212 -0.692891  0.419775   \n8      -0.547919  2.381884       0.046245       1.534551  4.021922 -0.189437   \n9       1.233880  0.128489       1.390387      -1.288212 -0.692891 -4.060474   \n10      0.046014 -0.340968       1.183596      -1.288212 -0.692891  0.711690   \n11      1.827813  1.474267       0.253036      -1.288212 -0.692891  0.762457   \n12      1.827813  0.566649       0.563223      -1.288212 -0.692891 -0.620962   \n13     -0.844885  2.131507      -0.470732       0.154533  6.652839 -0.240205   \n14      0.342981  1.411672       0.149641      -0.096379  0.826616 -0.785957   \n15      0.936914 -0.653939      -3.572597      -1.288212 -0.692891 -0.252897   \n16     -1.141852 -0.090591       0.770014       1.660007  1.304175  1.752428   \n17      0.936914 -0.434859       0.253036      -1.288212 -0.692891 -0.303664   \n18     -0.844885 -0.560048      -2.021665       1.095454  0.027790  1.435129   \n19     -0.844885 -0.184482       0.046245       0.593630  0.140667  0.330932   \n20     -0.250952  0.159787       0.976805       1.283638  1.347590  0.927452   \n21      1.233880 -0.685236       0.770014      -1.288212 -0.692891  0.432467   \n22      0.936914  2.350587       1.080200      -1.288212 -0.692891  0.990912   \n23      1.530847 -0.059293       0.563223       0.907270 -0.692891 -0.379816   \n24      2.124780  0.691838       1.286991       0.781814  0.574812  0.584771   \n25      1.827813  0.128489       0.046245       0.342717  0.305642 -0.113285   \n26      0.936914  0.817027       0.356432      -1.288212 -0.692891  0.940144   \n27     -0.844885 -0.747831      -0.160546      -0.347291  0.522715 -1.115947   \n28      2.718712  0.754432       0.666618      -0.096379  0.262228 -1.242867   \n29      0.342981 -0.121888       1.183596      -1.288212 -0.692891  0.267472   \n..           ...       ...            ...            ...       ...       ...   \n738    -0.547919 -0.685236      -0.470732      -0.221835  0.696373  0.584771   \n739    -0.844885 -0.591345       0.253036      -1.288212 -0.692891  0.952836   \n740     2.124780 -0.027996       0.563223       1.032726  0.609544  1.308210   \n741    -0.250952 -0.591345      -1.297896      -0.033651  0.123302 -0.151361   \n742    -0.844885 -0.372265      -0.574128      -0.159107  0.314325 -0.443275   \n743     1.530847  0.597947       1.286991      -1.288212 -0.692891  0.089785   \n744     2.718712  1.004810       0.976805       1.032726  0.522715  1.092447   \n745     2.421746 -0.653939       0.770014       0.781814  0.218813 -0.252897   \n746    -0.844885  0.817027       1.286991       1.283638 -0.692891  2.196645   \n747    -0.844885 -1.248585       0.253036       1.283638 -0.197966  1.815887   \n748    -0.250952  2.068912       0.046245       0.091805  1.043689  0.559387   \n749     0.639947  1.286484      -0.367337      -1.288212 -0.692891 -0.976336   \n750     0.046014  0.472758       0.046245      -1.288212 -0.692891 -0.100593   \n751    -0.844885  0.003301       0.459827       1.158182 -0.050356  0.889377   \n752    -0.250952 -0.403562      -0.367337       0.217261 -0.692891 -0.760573   \n753    -1.141852  1.881130       0.976805       1.471822  3.735386  1.435129   \n754     1.233880  1.036107       0.459827       0.719086 -0.692891  0.051710   \n755    -0.844885  0.222381       0.976805       1.158182  0.262228  0.572079   \n756     0.936914  0.504055       1.080200       1.283638 -0.692891  0.000942   \n757    -1.141852  0.065895       0.149641      -1.288212 -0.692891  0.546695   \n758    -0.844885 -0.466156       0.356432      -1.288212 -0.692891  0.698998   \n759     0.639947  2.162804       1.183596      -1.288212 -0.692891  0.445159   \n760    -0.547919 -1.029505      -0.574128       0.342717 -0.553964 -0.455967   \n761     1.530847  1.536861       0.253036       0.656358 -0.692891  1.523973   \n762     1.530847 -0.998208      -0.367337      -1.288212 -0.692891 -1.204791   \n763     1.827813 -0.622642       0.356432       1.722735  0.870031  0.115169   \n764    -0.547919  0.034598       0.046245       0.405445 -0.692891  0.610154   \n765     0.342981  0.003301       0.149641       0.154533  0.279594 -0.735190   \n766    -0.844885  0.159787      -0.470732      -1.288212 -0.692891 -0.240205   \n767    -0.844885 -0.873019       0.046245       0.656358 -0.692891 -0.202129   \n\n     DiabetesPedigreeFunction       Age  \n0                    0.468492  1.425995  \n1                   -0.365061 -0.190672  \n2                    0.604397 -0.105584  \n3                   -0.920763 -1.041549  \n4                    5.484909 -0.020496  \n5                   -0.818079 -0.275760  \n6                   -0.676133 -0.616111  \n7                   -1.020427 -0.360847  \n8                   -0.947944  1.681259  \n9                   -0.724455  1.766346  \n10                  -0.848280 -0.275760  \n11                   0.196681  0.064591  \n12                   2.926869  2.021610  \n13                  -0.223115  2.191785  \n14                   0.347687  1.511083  \n15                   0.036615 -0.105584  \n16                   0.238963 -0.190672  \n17                  -0.658012 -0.190672  \n18                  -0.872441 -0.020496  \n19                   0.172520 -0.105584  \n20                   0.701041 -0.531023  \n21                  -0.253316  1.425995  \n22                  -0.063049  0.660206  \n23                  -0.630831 -0.360847  \n24                  -0.658012  1.511083  \n25                  -0.805998  0.660206  \n26                  -0.648952  0.830381  \n27                   0.045675 -0.956462  \n28                  -0.685193  2.021610  \n29                  -0.407342  0.404942  \n..                        ...       ...  \n738                 -0.057009 -1.041549  \n739                 -0.540228  0.745293  \n740                  0.945671  1.255820  \n741                 -0.217075 -0.616111  \n742                 -0.763716 -0.956462  \n743                  0.791645  1.000557  \n744                  2.120497  0.490030  \n745                  0.048695  1.085644  \n746                 -0.343920 -0.531023  \n747                  1.884928 -0.105584  \n748                 -0.192914  0.234767  \n749                 -0.887541  1.425995  \n750                  2.144658 -0.956462  \n751                 -0.636871 -0.445935  \n752                 -0.751636 -0.701198  \n753                 -0.754656 -0.616111  \n754                 -0.087210  1.000557  \n755                  1.767143  0.319855  \n756                 -0.244256  0.490030  \n757                 -0.645932  1.596171  \n758                 -0.830159 -0.616111  \n759                 -0.585529  2.787399  \n760                  0.888288 -0.956462  \n761                 -0.208015  0.830381  \n762                 -0.996266 -0.020496  \n763                 -0.908682  2.532136  \n764                 -0.398282 -0.531023  \n765                 -0.685193 -0.275760  \n766                 -0.371101  1.170732  \n767                 -0.473785 -0.871374  \n\n[768 rows x 8 columns] was passed",
     "output_type": "error",
     "traceback": [
      "\u001b[0;31m\u001b[0m",
      "\u001b[0;31mTypeError\u001b[0mTraceback (most recent call last)",
      "\u001b[0;32m<ipython-input-69-a3310877fce3>\u001b[0m in \u001b[0;36m<module>\u001b[0;34m()\u001b[0m\n\u001b[1;32m      1\u001b[0m \u001b[0mprint\u001b[0m\u001b[0;34m(\u001b[0m\u001b[0;34m'Mean Adaboost Cross-Val Score (k=5):'\u001b[0m\u001b[0;34m)\u001b[0m\u001b[0;34m\u001b[0m\u001b[0m\n\u001b[0;32m----> 2\u001b[0;31m \u001b[0mprint\u001b[0m\u001b[0;34m(\u001b[0m\u001b[0mcross_val_score\u001b[0m\u001b[0;34m(\u001b[0m\u001b[0mX\u001b[0m\u001b[0;34m,\u001b[0m \u001b[0my\u001b[0m\u001b[0;34m)\u001b[0m\u001b[0;34m)\u001b[0m\u001b[0;34m\u001b[0m\u001b[0m\n\u001b[0m\u001b[1;32m      3\u001b[0m \u001b[0;31m# Expected Output: 0.7631270690094218\u001b[0m\u001b[0;34m\u001b[0m\u001b[0;34m\u001b[0m\u001b[0m\n",
      "\u001b[0;32m/opt/conda/envs/learn-env/lib/python3.6/site-packages/sklearn/model_selection/_validation.py\u001b[0m in \u001b[0;36mcross_val_score\u001b[0;34m(estimator, X, y, groups, scoring, cv, n_jobs, verbose, fit_params, pre_dispatch, error_score)\u001b[0m\n\u001b[1;32m    392\u001b[0m     \"\"\"\n\u001b[1;32m    393\u001b[0m     \u001b[0;31m# To ensure multimetric format is not supported\u001b[0m\u001b[0;34m\u001b[0m\u001b[0;34m\u001b[0m\u001b[0m\n\u001b[0;32m--> 394\u001b[0;31m     \u001b[0mscorer\u001b[0m \u001b[0;34m=\u001b[0m \u001b[0mcheck_scoring\u001b[0m\u001b[0;34m(\u001b[0m\u001b[0mestimator\u001b[0m\u001b[0;34m,\u001b[0m \u001b[0mscoring\u001b[0m\u001b[0;34m=\u001b[0m\u001b[0mscoring\u001b[0m\u001b[0;34m)\u001b[0m\u001b[0;34m\u001b[0m\u001b[0m\n\u001b[0m\u001b[1;32m    395\u001b[0m \u001b[0;34m\u001b[0m\u001b[0m\n\u001b[1;32m    396\u001b[0m     cv_results = cross_validate(estimator=estimator, X=X, y=y, groups=groups,\n",
      "\u001b[0;32m/opt/conda/envs/learn-env/lib/python3.6/site-packages/sklearn/metrics/scorer.py\u001b[0m in \u001b[0;36mcheck_scoring\u001b[0;34m(estimator, scoring, allow_none)\u001b[0m\n\u001b[1;32m    269\u001b[0m     \u001b[0;32mif\u001b[0m \u001b[0;32mnot\u001b[0m \u001b[0mhasattr\u001b[0m\u001b[0;34m(\u001b[0m\u001b[0mestimator\u001b[0m\u001b[0;34m,\u001b[0m \u001b[0;34m'fit'\u001b[0m\u001b[0;34m)\u001b[0m\u001b[0;34m:\u001b[0m\u001b[0;34m\u001b[0m\u001b[0m\n\u001b[1;32m    270\u001b[0m         raise TypeError(\"estimator should be an estimator implementing \"\n\u001b[0;32m--> 271\u001b[0;31m                         \"'fit' method, %r was passed\" % estimator)\n\u001b[0m\u001b[1;32m    272\u001b[0m     \u001b[0;32mif\u001b[0m \u001b[0misinstance\u001b[0m\u001b[0;34m(\u001b[0m\u001b[0mscoring\u001b[0m\u001b[0;34m,\u001b[0m \u001b[0msix\u001b[0m\u001b[0;34m.\u001b[0m\u001b[0mstring_types\u001b[0m\u001b[0;34m)\u001b[0m\u001b[0;34m:\u001b[0m\u001b[0;34m\u001b[0m\u001b[0m\n\u001b[1;32m    273\u001b[0m         \u001b[0;32mreturn\u001b[0m \u001b[0mget_scorer\u001b[0m\u001b[0;34m(\u001b[0m\u001b[0mscoring\u001b[0m\u001b[0;34m)\u001b[0m\u001b[0;34m\u001b[0m\u001b[0m\n",
      "\u001b[0;31mTypeError\u001b[0m: estimator should be an estimator implementing 'fit' method,      Pregnancies   Glucose  BloodPressure  SkinThickness   Insulin       BMI  \\\n0       0.639947  0.848324       0.149641       0.907270 -0.692891  0.204013   \n1      -0.844885 -1.123396      -0.160546       0.530902 -0.692891 -0.684422   \n2       1.233880  1.943724      -0.263941      -1.288212 -0.692891 -1.103255   \n3      -0.844885 -0.998208      -0.160546       0.154533  0.123302 -0.494043   \n4      -1.141852  0.504055      -1.504687       0.907270  0.765836  1.409746   \n5       0.342981 -0.153185       0.253036      -1.288212 -0.692891 -0.811341   \n6      -0.250952 -1.342476      -0.987710       0.719086  0.071204 -0.125977   \n7       1.827813 -0.184482      -3.572597      -1.288212 -0.692891  0.419775   \n8      -0.547919  2.381884       0.046245       1.534551  4.021922 -0.189437   \n9       1.233880  0.128489       1.390387      -1.288212 -0.692891 -4.060474   \n10      0.046014 -0.340968       1.183596      -1.288212 -0.692891  0.711690   \n11      1.827813  1.474267       0.253036      -1.288212 -0.692891  0.762457   \n12      1.827813  0.566649       0.563223      -1.288212 -0.692891 -0.620962   \n13     -0.844885  2.131507      -0.470732       0.154533  6.652839 -0.240205   \n14      0.342981  1.411672       0.149641      -0.096379  0.826616 -0.785957   \n15      0.936914 -0.653939      -3.572597      -1.288212 -0.692891 -0.252897   \n16     -1.141852 -0.090591       0.770014       1.660007  1.304175  1.752428   \n17      0.936914 -0.434859       0.253036      -1.288212 -0.692891 -0.303664   \n18     -0.844885 -0.560048      -2.021665       1.095454  0.027790  1.435129   \n19     -0.844885 -0.184482       0.046245       0.593630  0.140667  0.330932   \n20     -0.250952  0.159787       0.976805       1.283638  1.347590  0.927452   \n21      1.233880 -0.685236       0.770014      -1.288212 -0.692891  0.432467   \n22      0.936914  2.350587       1.080200      -1.288212 -0.692891  0.990912   \n23      1.530847 -0.059293       0.563223       0.907270 -0.692891 -0.379816   \n24      2.124780  0.691838       1.286991       0.781814  0.574812  0.584771   \n25      1.827813  0.128489       0.046245       0.342717  0.305642 -0.113285   \n26      0.936914  0.817027       0.356432      -1.288212 -0.692891  0.940144   \n27     -0.844885 -0.747831      -0.160546      -0.347291  0.522715 -1.115947   \n28      2.718712  0.754432       0.666618      -0.096379  0.262228 -1.242867   \n29      0.342981 -0.121888       1.183596      -1.288212 -0.692891  0.267472   \n..           ...       ...            ...            ...       ...       ...   \n738    -0.547919 -0.685236      -0.470732      -0.221835  0.696373  0.584771   \n739    -0.844885 -0.591345       0.253036      -1.288212 -0.692891  0.952836   \n740     2.124780 -0.027996       0.563223       1.032726  0.609544  1.308210   \n741    -0.250952 -0.591345      -1.297896      -0.033651  0.123302 -0.151361   \n742    -0.844885 -0.372265      -0.574128      -0.159107  0.314325 -0.443275   \n743     1.530847  0.597947       1.286991      -1.288212 -0.692891  0.089785   \n744     2.718712  1.004810       0.976805       1.032726  0.522715  1.092447   \n745     2.421746 -0.653939       0.770014       0.781814  0.218813 -0.252897   \n746    -0.844885  0.817027       1.286991       1.283638 -0.692891  2.196645   \n747    -0.844885 -1.248585       0.253036       1.283638 -0.197966  1.815887   \n748    -0.250952  2.068912       0.046245       0.091805  1.043689  0.559387   \n749     0.639947  1.286484      -0.367337      -1.288212 -0.692891 -0.976336   \n750     0.046014  0.472758       0.046245      -1.288212 -0.692891 -0.100593   \n751    -0.844885  0.003301       0.459827       1.158182 -0.050356  0.889377   \n752    -0.250952 -0.403562      -0.367337       0.217261 -0.692891 -0.760573   \n753    -1.141852  1.881130       0.976805       1.471822  3.735386  1.435129   \n754     1.233880  1.036107       0.459827       0.719086 -0.692891  0.051710   \n755    -0.844885  0.222381       0.976805       1.158182  0.262228  0.572079   \n756     0.936914  0.504055       1.080200       1.283638 -0.692891  0.000942   \n757    -1.141852  0.065895       0.149641      -1.288212 -0.692891  0.546695   \n758    -0.844885 -0.466156       0.356432      -1.288212 -0.692891  0.698998   \n759     0.639947  2.162804       1.183596      -1.288212 -0.692891  0.445159   \n760    -0.547919 -1.029505      -0.574128       0.342717 -0.553964 -0.455967   \n761     1.530847  1.536861       0.253036       0.656358 -0.692891  1.523973   \n762     1.530847 -0.998208      -0.367337      -1.288212 -0.692891 -1.204791   \n763     1.827813 -0.622642       0.356432       1.722735  0.870031  0.115169   \n764    -0.547919  0.034598       0.046245       0.405445 -0.692891  0.610154   \n765     0.342981  0.003301       0.149641       0.154533  0.279594 -0.735190   \n766    -0.844885  0.159787      -0.470732      -1.288212 -0.692891 -0.240205   \n767    -0.844885 -0.873019       0.046245       0.656358 -0.692891 -0.202129   \n\n     DiabetesPedigreeFunction       Age  \n0                    0.468492  1.425995  \n1                   -0.365061 -0.190672  \n2                    0.604397 -0.105584  \n3                   -0.920763 -1.041549  \n4                    5.484909 -0.020496  \n5                   -0.818079 -0.275760  \n6                   -0.676133 -0.616111  \n7                   -1.020427 -0.360847  \n8                   -0.947944  1.681259  \n9                   -0.724455  1.766346  \n10                  -0.848280 -0.275760  \n11                   0.196681  0.064591  \n12                   2.926869  2.021610  \n13                  -0.223115  2.191785  \n14                   0.347687  1.511083  \n15                   0.036615 -0.105584  \n16                   0.238963 -0.190672  \n17                  -0.658012 -0.190672  \n18                  -0.872441 -0.020496  \n19                   0.172520 -0.105584  \n20                   0.701041 -0.531023  \n21                  -0.253316  1.425995  \n22                  -0.063049  0.660206  \n23                  -0.630831 -0.360847  \n24                  -0.658012  1.511083  \n25                  -0.805998  0.660206  \n26                  -0.648952  0.830381  \n27                   0.045675 -0.956462  \n28                  -0.685193  2.021610  \n29                  -0.407342  0.404942  \n..                        ...       ...  \n738                 -0.057009 -1.041549  \n739                 -0.540228  0.745293  \n740                  0.945671  1.255820  \n741                 -0.217075 -0.616111  \n742                 -0.763716 -0.956462  \n743                  0.791645  1.000557  \n744                  2.120497  0.490030  \n745                  0.048695  1.085644  \n746                 -0.343920 -0.531023  \n747                  1.884928 -0.105584  \n748                 -0.192914  0.234767  \n749                 -0.887541  1.425995  \n750                  2.144658 -0.956462  \n751                 -0.636871 -0.445935  \n752                 -0.751636 -0.701198  \n753                 -0.754656 -0.616111  \n754                 -0.087210  1.000557  \n755                  1.767143  0.319855  \n756                 -0.244256  0.490030  \n757                 -0.645932  1.596171  \n758                 -0.830159 -0.616111  \n759                 -0.585529  2.787399  \n760                  0.888288 -0.956462  \n761                 -0.208015  0.830381  \n762                 -0.996266 -0.020496  \n763                 -0.908682  2.532136  \n764                 -0.398282 -0.531023  \n765                 -0.685193 -0.275760  \n766                 -0.371101  1.170732  \n767                 -0.473785 -0.871374  \n\n[768 rows x 8 columns] was passed"
     ]
    }
   ],
   "source": [
    "print('Mean Adaboost Cross-Val Score (k=5):')\n",
    "print(cross_val_score(X, y))\n",
    "# Expected Output: 0.7631270690094218"
   ]
  },
  {
   "cell_type": "code",
   "execution_count": null,
   "metadata": {},
   "outputs": [],
   "source": [
    "print('Mean GBT Cross-Val Score (k=5):')\n",
    "print(None)\n",
    "# Expected Output: 0.7591715474068416"
   ]
  },
  {
   "cell_type": "markdown",
   "metadata": {},
   "source": [
    "These models didn't do poorly, but we could probably do a bit better by tuning some of the important parameters such as the **_Learning Rate_**. \n",
    "\n",
    "## Summary\n",
    "\n",
    "In this lab, we learned how to use scikit-learn's implementations of popular boosting algorithms such as AdaBoost and Gradient Boosted Trees to make classification predictions on a real-world dataset!"
   ]
  }
 ],
 "metadata": {
  "kernelspec": {
   "display_name": "Python 3",
   "language": "python",
   "name": "python3"
  },
  "language_info": {
   "codemirror_mode": {
    "name": "ipython",
    "version": 3
   },
   "file_extension": ".py",
   "mimetype": "text/x-python",
   "name": "python",
   "nbconvert_exporter": "python",
   "pygments_lexer": "ipython3",
   "version": "3.6.6"
  }
 },
 "nbformat": 4,
 "nbformat_minor": 2
}
